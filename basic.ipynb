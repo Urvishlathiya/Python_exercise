{
 "cells": [
  {
   "cell_type": "code",
   "execution_count": 4,
   "metadata": {},
   "outputs": [
    {
     "name": "stdout",
     "output_type": "stream",
     "text": [
      "300\n"
     ]
    }
   ],
   "source": [
    "#1\n",
    "\n",
    "def multification_or_sum(num1 , num2):\n",
    "    product = num1 * num2\n",
    "\n",
    "    if product <= 1000:\n",
    "        return product\n",
    "    else :\n",
    "        return num1 +num2\n",
    "    \n",
    "result = multification_or_sum(10 , 30)\n",
    "print(result)\n",
    "\n",
    " "
   ]
  },
  {
   "cell_type": "code",
   "execution_count": 5,
   "metadata": {},
   "outputs": [
    {
     "name": "stdout",
     "output_type": "stream",
     "text": [
      "Current number 1 Previous number 0 Sum: 1\n",
      "Current number 2 Previous number 1 Sum: 3\n",
      "Current number 3 Previous number 2 Sum: 5\n",
      "Current number 4 Previous number 3 Sum: 7\n",
      "Current number 5 Previous number 4 Sum: 9\n",
      "Current number 6 Previous number 5 Sum: 11\n",
      "Current number 7 Previous number 6 Sum: 13\n",
      "Current number 8 Previous number 7 Sum: 15\n",
      "Current number 9 Previous number 8 Sum: 17\n",
      "Current number 10 Previous number 9 Sum: 19\n"
     ]
    }
   ],
   "source": [
    "#2 \n",
    "\n",
    "previous_num = 0\n",
    "\n",
    "for i in range(1 , 11):\n",
    "    x_sum = previous_num + i\n",
    "    print(\"Current number\" , i , \"Previous number\" , previous_num , \"Sum:\" , x_sum)\n",
    "\n",
    "    previous_num = i"
   ]
  },
  {
   "cell_type": "code",
   "execution_count": 8,
   "metadata": {},
   "outputs": [
    {
     "name": "stdout",
     "output_type": "stream",
     "text": [
      "original string:  urvish\n",
      "Printing only index chars: \n",
      "Index[ 0 ] u\n",
      "Index[ 2 ] v\n",
      "Index[ 4 ] s\n"
     ]
    }
   ],
   "source": [
    "#3 \n",
    "\n",
    "word  = input(\"Enter word\")\n",
    "print(\"original string: \" , word)\n",
    "\n",
    "size = len(word)\n",
    "print(\"Printing only index chars: \")\n",
    "\n",
    "for i in range(0 , size - 1 , 2):\n",
    "    print(\"Index[\",i,\"]\" , word[i])\n",
    "\n"
   ]
  },
  {
   "cell_type": "code",
   "execution_count": 10,
   "metadata": {},
   "outputs": [
    {
     "name": "stdout",
     "output_type": "stream",
     "text": [
      "Removing characters from string\n",
      "Original String:  Urvish\n",
      "ish\n",
      "Original String:  Urvish\n",
      "vish\n"
     ]
    }
   ],
   "source": [
    "#4 \n",
    "\n",
    "def remove_chars(word , n):\n",
    "    print('Original String: ' , word)\n",
    "    x = word[n:]\n",
    "    return x\n",
    "\n",
    "print(\"Removing characters from string\")\n",
    "print(remove_chars(\"Urvish\" , 3))\n",
    "print(remove_chars(\"Urvish\" , 2))"
   ]
  },
  {
   "cell_type": "code",
   "execution_count": 13,
   "metadata": {},
   "outputs": [
    {
     "name": "stdout",
     "output_type": "stream",
     "text": [
      "Given list [10, 20, 30, 40, 50]\n",
      "result is:  False\n",
      "Given list [10, 40, 80, 25, 10]\n",
      "result is:  True\n"
     ]
    }
   ],
   "source": [
    "# 5 \n",
    "\n",
    "def first_last_same(number_list):\n",
    "    print('Given list' , number_list)\n",
    "\n",
    "    first_num = number_list[0]\n",
    "    last_num = number_list[-1]\n",
    "\n",
    "    if first_num == last_num:\n",
    "        return True\n",
    "    else:\n",
    "        return False\n",
    "    \n",
    "numbers_x = [10 , 20 , 30 , 40 , 50]\n",
    "print(\"result is: \" , first_last_same(numbers_x))\n",
    "\n",
    "numbers_y = [10 , 40 , 80 , 25 , 10]\n",
    "print(\"result is: \" , first_last_same(numbers_y))\n"
   ]
  },
  {
   "cell_type": "code",
   "execution_count": null,
   "metadata": {},
   "outputs": [
    {
     "ename": "",
     "evalue": "",
     "output_type": "error",
     "traceback": [
      "\u001b[1;31mRunning cells with 'env_ml (Python 3.8.5)' requires the ipykernel package.\n",
      "\u001b[1;31mRun the following command to install 'ipykernel' into the Python environment. \n",
      "\u001b[1;31mCommand: 'g:/Python_practice/env_ml/Scripts/python.exe -m pip install ipykernel -U --force-reinstall'"
     ]
    }
   ],
   "source": [
    "\n",
    "mylist = []\n",
    "mylist.append(1)\n",
    "mylist.append(2)\n",
    "for item in mylist:\n",
    "    print(item) # prints out 1,2\n",
    "\n"
   ]
  },
  {
   "cell_type": "code",
   "execution_count": 1,
   "metadata": {},
   "outputs": [
    {
     "name": "stdout",
     "output_type": "stream",
     "text": [
      "1\n",
      "2\n"
     ]
    }
   ],
   "source": [
    "mylist = []\n",
    "mylist.append(1)\n",
    "mylist.append(2)\n",
    "for item in mylist:\n",
    "    print(item) # prints out 1,2\n"
   ]
  },
  {
   "cell_type": "code",
   "execution_count": 2,
   "metadata": {},
   "outputs": [
    {
     "name": "stdout",
     "output_type": "stream",
     "text": [
      "0\n",
      "1\n",
      "2\n"
     ]
    }
   ],
   "source": [
    "for item in range(6):\n",
    "    if item == 3: break\n",
    "    print(item)\n",
    "else:\n",
    "    print(\"Finally finished!\")\n"
   ]
  },
  {
   "cell_type": "code",
   "execution_count": 13,
   "metadata": {},
   "outputs": [
    {
     "name": "stdout",
     "output_type": "stream",
     "text": [
      "llo\n"
     ]
    }
   ],
   "source": [
    "msg = \"HelloWorld!\"\n",
    "print(msg[2:5])"
   ]
  }
 ],
 "metadata": {
  "kernelspec": {
   "display_name": "Python 3",
   "language": "python",
   "name": "python3"
  },
  "language_info": {
   "codemirror_mode": {
    "name": "ipython",
    "version": 3
   },
   "file_extension": ".py",
   "mimetype": "text/x-python",
   "name": "python",
   "nbconvert_exporter": "python",
   "pygments_lexer": "ipython3",
   "version": "3.8.5"
  }
 },
 "nbformat": 4,
 "nbformat_minor": 2
}
