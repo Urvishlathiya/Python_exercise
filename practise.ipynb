{
 "cells": [
  {
   "cell_type": "code",
   "execution_count": 16,
   "metadata": {},
   "outputs": [
    {
     "name": "stdout",
     "output_type": "stream",
     "text": [
      "Rodger is mamal\n",
      "Tommy is mamal\n",
      "My name is a Rodger\n",
      "My name is a Tommy\n"
     ]
    }
   ],
   "source": [
    "class Dog:\n",
    "\n",
    "    attr1 = \"mamal\"\n",
    "\n",
    "    def __init__(self, name):\n",
    "        self.name = name\n",
    "\n",
    "Rodger = Dog(\"Rodger\")\n",
    "Tommy = Dog(\"Tommy\")\n",
    "\n",
    "print(f\"Rodger is {Rodger.attr1}\")\n",
    "print(f\"Tommy is {Tommy.attr1}\")\n",
    "\n",
    "print(f\"My name is a {Rodger.name}\")\n",
    "print(f\"My name is a {Tommy.name}\")\n",
    "\n",
    "\n",
    "\n",
    "\n",
    "\n",
    "\n",
    "    "
   ]
  },
  {
   "cell_type": "code",
   "execution_count": 3,
   "metadata": {},
   "outputs": [
    {
     "name": "stdout",
     "output_type": "stream",
     "text": [
      "speaking\n",
      "barking\n"
     ]
    }
   ],
   "source": [
    "#inheritance\n",
    "class Animal:\n",
    "    def speak(self):\n",
    "        print(\"speaking\")\n",
    "\n",
    "class Dog(Animal):\n",
    "    def barking(self):\n",
    "        print(\"barking\")\n",
    "\n",
    "d1 = Dog()\n",
    "d1.speak()\n",
    "d1.barking()"
   ]
  },
  {
   "cell_type": "code",
   "execution_count": 4,
   "metadata": {},
   "outputs": [
    {
     "name": "stdout",
     "output_type": "stream",
     "text": [
      "yellow yellow dirty fellow.\n",
      "37'inch.\n",
      "100 kgs\n"
     ]
    }
   ],
   "source": [
    "#multiple inheritance\n",
    "\n",
    "class Car:\n",
    "    def colour(self):\n",
    "        print(\"yellow yellow dirty fellow.\")\n",
    "\n",
    "class Jeep:\n",
    "    def tyresize(self):\n",
    "        print(\"37'inch.\")\n",
    "\n",
    "class Truck(Car,Jeep):\n",
    "    def weight(self):\n",
    "        print(\"100 kgs\")\n",
    "\n",
    "details = Truck()\n",
    "details.colour()\n",
    "details.tyresize()\n",
    "details.weight()"
   ]
  },
  {
   "cell_type": "code",
   "execution_count": 5,
   "metadata": {},
   "outputs": [
    {
     "name": "stdout",
     "output_type": "stream",
     "text": [
      "yellow yellow dirty fellow.\n",
      "37'inch.\n",
      "100 kgs\n"
     ]
    }
   ],
   "source": [
    "#multilevel \n",
    "\n",
    "class Car:\n",
    "    def colour(self):\n",
    "        print(\"yellow yellow dirty fellow.\")\n",
    "\n",
    "class Jeep(Car):\n",
    "    def tyresize(self):\n",
    "        print(\"37'inch.\")\n",
    "\n",
    "class Truck(Jeep):\n",
    "    def weight(self):\n",
    "        print(\"100 kgs\")\n",
    "\n",
    "details = Truck()\n",
    "details.colour()\n",
    "details.tyresize()\n",
    "details.weight()"
   ]
  },
  {
   "cell_type": "code",
   "execution_count": 14,
   "metadata": {},
   "outputs": [
    {
     "name": "stdout",
     "output_type": "stream",
     "text": [
      "eating\n",
      "My name is Tommy \n"
     ]
    }
   ],
   "source": [
    "class Animal:\n",
    "    Name = \"\"\n",
    "    def eat(self):\n",
    "        print(\"eating\")\n",
    "\n",
    "class Dog(Animal):\n",
    "    def eat(self):\n",
    "        super().eat()\n",
    "        print(f\"My name is {self.Name} \")\n",
    "       \n",
    "\n",
    "d1 = Dog()\n",
    "d1.Name = \"Tommy\"\n",
    "d1.eat()"
   ]
  },
  {
   "cell_type": "code",
   "execution_count": 10,
   "metadata": {},
   "outputs": [
    {
     "name": "stdout",
     "output_type": "stream",
     "text": [
      "Urvish\n",
      "2025\n",
      "My name is Urvish\n",
      "Idnumber is 2025\n",
      "Salary is :50000\n",
      "Post : Manager\n"
     ]
    }
   ],
   "source": [
    "class Person:\n",
    "\n",
    "    Name = \"\"\n",
    "    Idnumber = 0\n",
    "    salary = 0\n",
    "    post = ''\n",
    "\n",
    "    def __init__(self, Name , Idnumber):\n",
    "        self.Name = Name\n",
    "        self.Idnumber = Idnumber\n",
    "\n",
    "    def display(self):\n",
    "        print(self.Name)\n",
    "        print(self.Idnumber)\n",
    "\n",
    "    def details(self):\n",
    "        print(f\"My name is {self.Name}\")\n",
    "        print(f\"Idnumber is {self.Idnumber}\")\n",
    "\n",
    "\n",
    "class Employee(Person):\n",
    "\n",
    "\n",
    "        Person.__init__(self, Name, Idnumber)\n",
    "    \n",
    "    def details(self):\n",
    "        print(f\"My name is {self.Name}\")\n",
    "        print(f\"Idnumber is {self.Idnumber}\")\n",
    "        print(f\"Salary is :{self.salary}\")\n",
    "        print(f\"Post : {self.post}\")\n",
    "\n",
    "a = Employee(\"Urvish\" , 2025 , 50000 , \"Manager\")\n",
    "\n",
    "a.display()\n",
    "a.details()\n"
   ]
  },
  {
   "cell_type": "code",
   "execution_count": 6,
   "metadata": {},
   "outputs": [
    {
     "name": "stdout",
     "output_type": "stream",
     "text": [
      "Urvish\n",
      "2025\n",
      "50000\n",
      "Manager\n",
      "My name is Urvish\n",
      "Idnumber is 2025\n",
      "Salary is : 50000\n",
      "Post is : Manager\n"
     ]
    }
   ],
   "source": [
    "class Person:\n",
    "\n",
    "    Name = \"\"\n",
    "    Idnumber = 0\n",
    "    salary = 0\n",
    "    post = ''\n",
    "\n",
    "    def __init__(self, Name , Idnumber , salary , post):\n",
    "        self.Name = Name\n",
    "        self.Idnumber = Idnumber\n",
    "        self.salary = salary\n",
    "        self.post  = post\n",
    "\n",
    "    def display(self):\n",
    "        print(self.Name)\n",
    "        print(self.Idnumber)\n",
    "        print(self.salary)\n",
    "        print(self.post)\n",
    "        \n",
    "\n",
    "    def details(self):\n",
    "        print(f\"My name is {self.Name}\")\n",
    "        print(f\"Idnumber is {self.Idnumber}\")\n",
    "        print(f\"Salary is : {self.salary }\")\n",
    "        print(f\"Post is : {self.post}\")\n",
    "\n",
    "a = Person (\"Urvish\" , 2025 , 50000 , 'Manager')\n",
    "\n",
    "a.display()\n",
    "a.details()"
   ]
  },
  {
   "cell_type": "code",
   "execution_count": 7,
   "metadata": {},
   "outputs": [
    {
     "name": "stdout",
     "output_type": "stream",
     "text": [
      "Audi\n",
      "Q7\n",
      "Audi\n",
      "Q8\n"
     ]
    }
   ],
   "source": [
    "class Car:\n",
    "    def __init__(self, brand ,model):\n",
    "        self.brand = brand\n",
    "        self.model = model\n",
    "\n",
    "    def move(self):\n",
    "        print(\"Move !\")\n",
    "\n",
    "        \n",
    "class Boat(Car):\n",
    "    def __init__(self , brand, model):\n",
    "        self.brand = brand\n",
    "        self.model = model\n",
    "\n",
    "class Plane(Car):\n",
    "    def __init__(self, brand ,model):\n",
    "        self.brand = brand\n",
    "        self.model = model\n",
    "\n",
    "Boat1 = Boat(\"Audi\" , \"Q7\")\n",
    "Plane1 = Plane(\"Audi\" , \"Q8\")\n",
    "\n",
    "for x in (Boat1 , Plane1):\n",
    "    print(x.brand)\n",
    "    print(x.model)\n",
    "\n",
    "        "
   ]
  },
  {
   "cell_type": "code",
   "execution_count": 1,
   "metadata": {},
   "outputs": [
    {
     "ename": "NameError",
     "evalue": "name 'date' is not defined",
     "output_type": "error",
     "traceback": [
      "\u001b[1;31m---------------------------------------------------------------------------\u001b[0m",
      "\u001b[1;31mNameError\u001b[0m                                 Traceback (most recent call last)",
      "Cell \u001b[1;32mIn[1], line 13\u001b[0m\n\u001b[0;32m     11\u001b[0m \u001b[38;5;66;03m# Example usage:\u001b[39;00m\n\u001b[0;32m     12\u001b[0m \u001b[38;5;28;01mif\u001b[39;00m \u001b[38;5;18m__name__\u001b[39m \u001b[38;5;241m==\u001b[39m \u001b[38;5;124m\"\u001b[39m\u001b[38;5;124m__main__\u001b[39m\u001b[38;5;124m\"\u001b[39m:\n\u001b[1;32m---> 13\u001b[0m     person1 \u001b[38;5;241m=\u001b[39m Person(\u001b[38;5;124m\"\u001b[39m\u001b[38;5;124mJohn Doe\u001b[39m\u001b[38;5;124m\"\u001b[39m, \u001b[38;5;124m\"\u001b[39m\u001b[38;5;124mUSA\u001b[39m\u001b[38;5;124m\"\u001b[39m, \u001b[43mdate\u001b[49m(\u001b[38;5;241m1990\u001b[39m, \u001b[38;5;241m5\u001b[39m, \u001b[38;5;241m15\u001b[39m))\n\u001b[0;32m     14\u001b[0m     \u001b[38;5;28mprint\u001b[39m(person1\u001b[38;5;241m.\u001b[39mname, \u001b[38;5;124m\"\u001b[39m\u001b[38;5;124mis\u001b[39m\u001b[38;5;124m\"\u001b[39m, person1\u001b[38;5;241m.\u001b[39mage(), \u001b[38;5;124m\"\u001b[39m\u001b[38;5;124myears old.\u001b[39m\u001b[38;5;124m\"\u001b[39m)\n",
      "\u001b[1;31mNameError\u001b[0m: name 'date' is not defined"
     ]
    }
   ],
   "source": [
    "class Person:\n",
    "    def __init__(self, name, country, dob):\n",
    "        self.name = name\n",
    "        self.country = country\n",
    "        self.dob = dob\n",
    "    def age(self):\n",
    "        today = date.today()\n",
    "        birth_date = self.dob\n",
    "        age = today.year - birth_date.year - ((today.month, today.day) < (birth_date.month, birth_date.day))\n",
    "        return age\n",
    "# Example usage:\n",
    "if __name__ == \"__main__\":\n",
    "    person1 = Person(\"John Doe\", \"USA\", date(1990, 5, 15))\n",
    "    print(person1.name, \"is\", person1.age(), \"years old.\")"
   ]
  },
  {
   "cell_type": "code",
   "execution_count": null,
   "metadata": {},
   "outputs": [],
   "source": [
    "def details():\n",
    "    name = \"Urvish\"\n",
    "    return lambda: \"Hi \" + name\n",
    "\n",
    "message = details()\n",
    "\n",
    "message()"
   ]
  },
  {
   "cell_type": "code",
   "execution_count": 4,
   "metadata": {},
   "outputs": [
    {
     "name": "stdout",
     "output_type": "stream",
     "text": [
      "apple\n",
      "cherry\n"
     ]
    }
   ],
   "source": [
    "fruits = [\"apple\", \"banana\", \"cherry\"]\n",
    "for i in fruits:\n",
    "  if i == \"banana\":\n",
    "    continue\n",
    "  print(i)"
   ]
  },
  {
   "cell_type": "code",
   "execution_count": 13,
   "metadata": {},
   "outputs": [
    {
     "name": "stdout",
     "output_type": "stream",
     "text": [
      "String with the use of Single Quotes: \n",
      "e to the Geeks Wo\n"
     ]
    }
   ],
   "source": [
    "String1 = 'Welcome to the Geeks World'\n",
    "print(\"String with the use of Single Quotes: \")\n",
    "print(String1[6:-3])"
   ]
  },
  {
   "cell_type": "code",
   "execution_count": 16,
   "metadata": {},
   "outputs": [
    {
     "name": "stdout",
     "output_type": "stream",
     "text": [
      "unlocked !!\n"
     ]
    }
   ],
   "source": [
    "password = \"learn coding\"\n",
    "input_password = input(\"Enter the password : \")\n",
    "\n",
    "while password != input_password:\n",
    "    input_password = input(\"Enter the password : \")\n",
    "\n",
    "else:\n",
    "    print(\"unlocked !!\")\n"
   ]
  }
 ],
 "metadata": {
  "kernelspec": {
   "display_name": "Python 3",
   "language": "python",
   "name": "python3"
  },
  "language_info": {
   "codemirror_mode": {
    "name": "ipython",
    "version": 3
   },
   "file_extension": ".py",
   "mimetype": "text/x-python",
   "name": "python",
   "nbconvert_exporter": "python",
   "pygments_lexer": "ipython3",
   "version": "3.8.5"
  }
 },
 "nbformat": 4,
 "nbformat_minor": 2
}
