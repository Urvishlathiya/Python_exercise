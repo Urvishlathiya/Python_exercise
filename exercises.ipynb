{
 "cells": [
  {
   "cell_type": "code",
   "execution_count": 1,
   "metadata": {},
   "outputs": [
    {
     "name": "stdout",
     "output_type": "stream",
     "text": [
      "2\n"
     ]
    }
   ],
   "source": [
    "#7 \n",
    "\n",
    "str_x = \"I am Urvish lathiya . Urvish is a student\"\n",
    "\n",
    "cnt = str_x.count(\"Urvish\")\n",
    "\n",
    "print(cnt)"
   ]
  },
  {
   "cell_type": "code",
   "execution_count": 3,
   "metadata": {},
   "outputs": [
    {
     "name": "stdout",
     "output_type": "stream",
     "text": [
      "\n",
      "\n",
      "1 \n",
      "\n",
      "2 2 \n",
      "\n",
      "3 3 3 \n",
      "\n",
      "4 4 4 4 \n",
      "\n",
      "5 5 5 5 5 \n",
      "\n",
      "6 6 6 6 6 6 \n",
      "\n",
      "7 7 7 7 7 7 7 \n",
      "\n",
      "8 8 8 8 8 8 8 8 \n",
      "\n",
      "9 9 9 9 9 9 9 9 9 \n",
      "\n"
     ]
    }
   ],
   "source": [
    "for num in range(10):\n",
    "    for i in range(num):\n",
    "        print (num, end=\" \")\n",
    "\n",
    "    print(\"\\n\")"
   ]
  },
  {
   "cell_type": "code",
   "execution_count": 6,
   "metadata": {},
   "outputs": [
    {
     "name": "stdout",
     "output_type": "stream",
     "text": [
      "Given number 3459\n",
      "9 5 4 3 "
     ]
    }
   ],
   "source": [
    "number = 3459\n",
    "print(\"Given number\", number)\n",
    "while number > 0:\n",
    "    # get the last digit\n",
    "    digit = number % 10\n",
    "    # remove the last digit and repeat the loop\n",
    "    number = number // 10\n",
    "    print(digit, end=\" \")\n"
   ]
  },
  {
   "cell_type": "code",
   "execution_count": 7,
   "metadata": {},
   "outputs": [
    {
     "name": "stdout",
     "output_type": "stream",
     "text": [
      "Given Number: 7895\n",
      "5987"
     ]
    }
   ],
   "source": [
    "number = 7895\n",
    "print(\"Given Number:\", number)\n",
    "while number > 0:\n",
    "    digit = number % 10\n",
    "    number = number // 10\n",
    "    print(digit , end=\"\")"
   ]
  },
  {
   "cell_type": "code",
   "execution_count": 14,
   "metadata": {},
   "outputs": [
    {
     "name": "stdout",
     "output_type": "stream",
     "text": [
      "1  2  3  4  5  6  7  8  9  10  \t\t\n",
      "2  4  6  8  10  12  14  16  18  20  \t\t\n",
      "3  6  9  12  15  18  21  24  27  30  \t\t\n",
      "4  8  12  16  20  24  28  32  36  40  \t\t\n",
      "5  10  15  20  25  30  35  40  45  50  \t\t\n",
      "6  12  18  24  30  36  42  48  54  60  \t\t\n",
      "7  14  21  28  35  42  49  56  63  70  \t\t\n",
      "8  16  24  32  40  48  56  64  72  80  \t\t\n",
      "9  18  27  36  45  54  63  72  81  90  \t\t\n",
      "10  20  30  40  50  60  70  80  90  100  \t\t\n"
     ]
    }
   ],
   "source": [
    "for i in range(1 , 11):\n",
    "    for x in range(1, 11):\n",
    "        print(i * x, end =\"  \")\n",
    "    print(\"\\t\\t\")"
   ]
  },
  {
   "cell_type": "code",
   "execution_count": 15,
   "metadata": {},
   "outputs": [
    {
     "name": "stdout",
     "output_type": "stream",
     "text": [
      "multipication is : 1125\n"
     ]
    }
   ],
   "source": [
    "num1 = int(input(\"enter the first number\"))\n",
    "num2 = int(input(\"Enter the second number\"))\n",
    "\n",
    "res = num1 * num2\n",
    "print(\"multipication is :\" , res)"
   ]
  },
  {
   "cell_type": "code",
   "execution_count": 17,
   "metadata": {},
   "outputs": [
    {
     "name": "stdout",
     "output_type": "stream",
     "text": [
      "my**name**is**urvish\n"
     ]
    }
   ],
   "source": [
    "print(\"my\",\"name\", \"is\", \"urvish\" , sep = '**')"
   ]
  },
  {
   "cell_type": "code",
   "execution_count": 19,
   "metadata": {},
   "outputs": [
    {
     "name": "stdout",
     "output_type": "stream",
     "text": [
      "17\n"
     ]
    }
   ],
   "source": [
    "num = 15\n",
    "\n",
    "print('%o' % num)"
   ]
  },
  {
   "cell_type": "code",
   "execution_count": 21,
   "metadata": {},
   "outputs": [
    {
     "name": "stdout",
     "output_type": "stream",
     "text": [
      "154.25\n"
     ]
    }
   ],
   "source": [
    "num = 154.25487\n",
    "\n",
    "print('%.2f' % num)"
   ]
  },
  {
   "cell_type": "code",
   "execution_count": 22,
   "metadata": {},
   "outputs": [
    {
     "name": "stdout",
     "output_type": "stream",
     "text": [
      "Enter the number 0 :\n",
      "Enter the number 1 :\n",
      "Enter the number 2 :\n",
      "Enter the number 3 :\n",
      "Enter the number 4 :\n",
      "user list: [521.0, 5211.0, 212.0, 521.0, 221.0]\n"
     ]
    }
   ],
   "source": [
    "numbers = []\n",
    "\n",
    "for i in range(0 ,5):\n",
    "    print(\"Enter the number\" , i ,\":\")\n",
    "    item = float(input())\n",
    "\n",
    "    numbers.append(item)\n",
    "\n",
    "print(\"user list:\" , numbers)"
   ]
  },
  {
   "cell_type": "code",
   "execution_count": 29,
   "metadata": {},
   "outputs": [
    {
     "ename": "ValueError",
     "evalue": "not enough values to unpack (expected 3, got 1)",
     "output_type": "error",
     "traceback": [
      "\u001b[1;31m---------------------------------------------------------------------------\u001b[0m",
      "\u001b[1;31mValueError\u001b[0m                                Traceback (most recent call last)",
      "Cell \u001b[1;32mIn[29], line 1\u001b[0m\n\u001b[1;32m----> 1\u001b[0m str1 , str2 , str3 \u001b[38;5;241m=\u001b[39m \u001b[38;5;28minput\u001b[39m(\u001b[38;5;124m\"\u001b[39m\u001b[38;5;124menter three string:\u001b[39m\u001b[38;5;124m\"\u001b[39m)\u001b[38;5;241m.\u001b[39msplit()\n\u001b[0;32m      3\u001b[0m \u001b[38;5;28mprint\u001b[39m(\u001b[38;5;124m'\u001b[39m\u001b[38;5;124mName1:\u001b[39m\u001b[38;5;124m'\u001b[39m , str1)\n\u001b[0;32m      5\u001b[0m \u001b[38;5;28mprint\u001b[39m(\u001b[38;5;124m'\u001b[39m\u001b[38;5;124mName2:\u001b[39m\u001b[38;5;124m'\u001b[39m , str2)\n",
      "\u001b[1;31mValueError\u001b[0m: not enough values to unpack (expected 3, got 1)"
     ]
    }
   ],
   "source": [
    "str1 , str2 , str3 = input(\"enter three string:\").split()\n",
    "\n",
    "print('Name1:' , str1)\n",
    "\n",
    "print('Name2:' , str2)\n",
    "\n",
    "print('Name3:' , str3)\n"
   ]
  },
  {
   "cell_type": "code",
   "execution_count": 33,
   "metadata": {},
   "outputs": [
    {
     "name": "stdout",
     "output_type": "stream",
     "text": [
      "1\n",
      "2\n",
      "3\n",
      "4\n",
      "5\n",
      "6\n",
      "7\n",
      "8\n",
      "9\n",
      "10\n"
     ]
    }
   ],
   "source": [
    "i =1\n",
    "while i<=10:\n",
    "    print(i)\n",
    "\n",
    "    i += 1"
   ]
  },
  {
   "cell_type": "code",
   "execution_count": 35,
   "metadata": {},
   "outputs": [
    {
     "name": "stdout",
     "output_type": "stream",
     "text": [
      "number pattern :\n",
      "1  \n",
      "1 2  \n",
      "1 2 3  \n",
      "1 2 3 4  \n",
      "1 2 3 4 5  \n",
      "1 2 3 4 5 6  \n",
      "1 2 3 4 5 6 7  \n"
     ]
    }
   ],
   "source": [
    "print(\"number pattern :\")\n",
    "\n",
    "row = 7\n",
    "\n",
    "for i in range(1 ,row + 1 , 1):\n",
    "    for j in range(1 , i+1 ):\n",
    "        print(j , end =\" \")\n",
    "\n",
    "    print(\" \")"
   ]
  },
  {
   "cell_type": "code",
   "execution_count": 1,
   "metadata": {},
   "outputs": [
    {
     "name": "stdout",
     "output_type": "stream",
     "text": [
      "\n",
      "\n",
      "sum is : 105\n"
     ]
    }
   ],
   "source": [
    "s = 0\n",
    "n = int(input(\"Ener the number \"))\n",
    "\n",
    "for i in range(1 , n+1 , 1):\n",
    "    s += i\n",
    "print(\"\\n\")\n",
    "print(\"sum is :\" , s)"
   ]
  },
  {
   "cell_type": "code",
   "execution_count": 2,
   "metadata": {},
   "outputs": [
    {
     "name": "stdout",
     "output_type": "stream",
     "text": [
      "7\n",
      "14\n",
      "21\n",
      "28\n",
      "35\n",
      "42\n",
      "49\n",
      "56\n",
      "63\n",
      "70\n"
     ]
    }
   ],
   "source": [
    "n = 7\n",
    "\n",
    "for i in range(1,11,1):\n",
    "    product = n*i\n",
    "    print(product)\n"
   ]
  },
  {
   "cell_type": "code",
   "execution_count": 5,
   "metadata": {},
   "outputs": [
    {
     "name": "stdout",
     "output_type": "stream",
     "text": [
      "75\n",
      "150\n"
     ]
    }
   ],
   "source": [
    "numbers = [75,150,845,250,400]\n",
    "\n",
    "for item in numbers:\n",
    "    if item >500:\n",
    "        break\n",
    "    elif item > 150:\n",
    "        continue\n",
    "    elif item % 5 == 0:\n",
    "        print(item)"
   ]
  },
  {
   "cell_type": "code",
   "execution_count": 1,
   "metadata": {},
   "outputs": [
    {
     "name": "stdout",
     "output_type": "stream",
     "text": [
      "[50, 40, 30, 20, 10]\n"
     ]
    }
   ],
   "source": [
    "list1 = [10,20,30,40,50]\n",
    "list1.reverse()\n",
    "print(list1)"
   ]
  },
  {
   "cell_type": "code",
   "execution_count": 5,
   "metadata": {},
   "outputs": [
    {
     "name": "stdout",
     "output_type": "stream",
     "text": [
      "['mme', 'name', 'is', 'kely']\n"
     ]
    }
   ],
   "source": [
    "list1 = [\"m\",\"na\",\"i\",\"ke\"]\n",
    "list2 = [\"me\",\"me\",\"s\",\"ly\"]\n",
    "list3 = [i + j for i ,j in zip(list1 , list2)]\n",
    "\n",
    "print(list3)"
   ]
  },
  {
   "cell_type": "code",
   "execution_count": 10,
   "metadata": {},
   "outputs": [
    {
     "name": "stdout",
     "output_type": "stream",
     "text": [
      "[1, 25, 49, 81, 121]\n"
     ]
    }
   ],
   "source": [
    "numbers = [1,5,7,9,11]\n",
    "\n",
    "sqr = []\n",
    "for i in numbers:\n",
    "    sqr.append(i * i)\n",
    "\n",
    "print(sqr)"
   ]
  },
  {
   "cell_type": "code",
   "execution_count": 11,
   "metadata": {},
   "outputs": [
    {
     "name": "stdout",
     "output_type": "stream",
     "text": [
      "['hellodear', 'hellosir', 'takedear', 'takesir']\n"
     ]
    }
   ],
   "source": [
    "list1 = [\"hello\" , \"take\"]\n",
    "list2 = [\"dear\",\"sir\"]\n",
    "\n",
    "list3 = [x + y for x in list1 for y in list2]\n",
    "print(list3)"
   ]
  },
  {
   "cell_type": "code",
   "execution_count": 14,
   "metadata": {},
   "outputs": [
    {
     "name": "stdout",
     "output_type": "stream",
     "text": [
      "The factorial of  10 is :3628800\n"
     ]
    }
   ],
   "source": [
    "n =int(input(\"enter the number\"))\n",
    "fact = 1\n",
    " \n",
    "for i in range(1, n+1):\n",
    "    fact = fact * i\n",
    " \n",
    "print(\"The factorial of \", n, \"is :\" , end=\"\")\n",
    "print(fact)"
   ]
  }
 ],
 "metadata": {
  "kernelspec": {
   "display_name": "Python 3",
   "language": "python",
   "name": "python3"
  },
  "language_info": {
   "codemirror_mode": {
    "name": "ipython",
    "version": 3
   },
   "file_extension": ".py",
   "mimetype": "text/x-python",
   "name": "python",
   "nbconvert_exporter": "python",
   "pygments_lexer": "ipython3",
   "version": "3.8.5"
  }
 },
 "nbformat": 4,
 "nbformat_minor": 2
}
