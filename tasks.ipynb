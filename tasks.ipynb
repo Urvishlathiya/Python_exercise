{
 "cells": [
  {
   "cell_type": "code",
   "execution_count": 21,
   "metadata": {},
   "outputs": [
    {
     "name": "stdout",
     "output_type": "stream",
     "text": [
      "My name is Urvish\n",
      "My country is India\n",
      "My date of birth is 23\n"
     ]
    }
   ],
   "source": [
    "#1. Write a Python program to create a person class. \n",
    "#Include attributes  like name, country and date of birth. Implement a method to  determine the person’s age.\n",
    "class Person:\n",
    "    name = \"\"\n",
    "    country = ''\n",
    "    date_of_birth = 00\n",
    "\n",
    "\n",
    "    def __init__(self , name , country , date_of_birth):\n",
    "        self.name = name\n",
    "        self.country = country\n",
    "        self.date_of_birth = date_of_birth\n",
    "\n",
    "    def age(self):\n",
    "        \n",
    "        \n",
    "        \n",
    "a = Person (\"Urvish\", 'India', 23)\n",
    "\n",
    "\n",
    "print(f\"My name is {a.name}\")\n",
    "print(f\"My country is {a.country}\")\n",
    "print(f\"My date of birth is {a.date_of_birth}\")\n",
    "\n",
    "\n",
    "\n",
    "\n"
   ]
  },
  {
   "cell_type": "code",
   "execution_count": 22,
   "metadata": {},
   "outputs": [
    {
     "name": "stdout",
     "output_type": "stream",
     "text": [
      "Account 123456 created with an initial balance of 1000.\n",
      "Deposited 500 into account 123456.\n",
      "Withdrew 200 from account 123456.\n",
      "Current balance: 1300\n"
     ]
    }
   ],
   "source": [
    "class Bank:\n",
    "    def __init__(self):\n",
    "        self.accounts = {}  # Dictionary to store account numbers and balances\n",
    "\n",
    "    def create_account(self, account_number, initial_balance=0):\n",
    "        \"\"\"Create a new account with the given account number and initial balance.\"\"\"\n",
    "        self.accounts.setdefault(account_number, initial_balance)\n",
    "        print(f\"Account {account_number} created with an initial balance of {initial_balance}.\")\n",
    "\n",
    "    def deposit(self, account_number, amount):\n",
    "        \"\"\"Deposit the specified amount into the account.\"\"\"\n",
    "        self.accounts[account_number] = self.accounts.get(account_number, 0) + amount\n",
    "        print(f\"Deposited {amount} into account {account_number}.\")\n",
    "\n",
    "    def withdraw(self, account_number, amount):\n",
    "        \"\"\"Withdraw the specified amount from the account.\"\"\"\n",
    "        self.accounts[account_number] = self.accounts.get(account_number, 0) - amount\n",
    "        print(f\"Withdrew {amount} from account {account_number}.\")\n",
    "\n",
    "    def get_balance(self, account_number):\n",
    "        \"\"\"Get the current balance of the account.\"\"\"\n",
    "        return self.accounts.get(account_number, 0)\n",
    "\n",
    "# Example usage:\n",
    "bank = Bank()\n",
    "bank.create_account(\"123456\", 1000)\n",
    "bank.deposit(\"123456\", 500)\n",
    "bank.withdraw(\"123456\", 200)\n",
    "print(\"Current balance:\", bank.get_balance(\"123456\"))\n"
   ]
  },
  {
   "cell_type": "code",
   "execution_count": 5,
   "metadata": {},
   "outputs": [
    {
     "name": "stdout",
     "output_type": "stream",
     "text": [
      "Addition is  25\n",
      "Subtraction is  5\n",
      "multipication is  150\n"
     ]
    }
   ],
   "source": [
    "class Calculator:\n",
    "\n",
    "    def addition(self,a , b):\n",
    "        return a + b\n",
    "    \n",
    "    def subtract(self , a ,b):\n",
    "        return a - b\n",
    "    \n",
    "    def multipy(self , a, b):\n",
    "        return a*b\n",
    "    \n",
    "C1 = Calculator()\n",
    "\n",
    "print(\"Addition is \", C1.addition(10,15))\n",
    "print(\"Subtraction is \", C1.subtract(15,10))\n",
    "print(\"multipication is \", C1.multipy(10,15))"
   ]
  },
  {
   "cell_type": "code",
   "execution_count": 15,
   "metadata": {},
   "outputs": [
    {
     "name": "stdout",
     "output_type": "stream",
     "text": [
      "Apple 30\n"
     ]
    }
   ],
   "source": [
    "#Write a Python program to create a class representing a shopping cart. \n",
    "#Include methods for adding and removing items, and calculating the total price.\n",
    "\n",
    "class Item:\n",
    "    def __init__(self, name ,price):\n",
    "        self.name = name\n",
    "        self.price = price\n",
    "\n",
    "class Shoppingcart:\n",
    "    def add_items(self , items1):\n",
    "        self.items1 = items1\n",
    "\n",
    "    def remove_items(self, items2):\n",
    "        self.items2 = items2\n",
    "\n",
    "    def add(self, a,b):\n",
    "        return a+b\n",
    "\n",
    "\n",
    "d1 = Item(\"Apple\" , 30)\n",
    "d2 = Item(\"Bread\" , 20)\n",
    "\n",
    "cart = ShoppingCart()\n",
    "\n",
    "print(d1.name , d1.price)\n",
    "\n",
    "\n",
    "\n",
    "        \n",
    "        "
   ]
  }
 ],
 "metadata": {
  "kernelspec": {
   "display_name": "Python 3",
   "language": "python",
   "name": "python3"
  },
  "language_info": {
   "codemirror_mode": {
    "name": "ipython",
    "version": 3
   },
   "file_extension": ".py",
   "mimetype": "text/x-python",
   "name": "python",
   "nbconvert_exporter": "python",
   "pygments_lexer": "ipython3",
   "version": "3.8.5"
  }
 },
 "nbformat": 4,
 "nbformat_minor": 2
}
